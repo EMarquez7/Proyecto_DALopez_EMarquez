{
 "cells": [
  {
   "cell_type": "markdown",
   "metadata": {},
   "source": [
    "<img style=\"float: left; margin: 30px 15px 15px 15px;\" src=\"https://pngimage.net/wp-content/uploads/2018/06/logo-iteso-png-5.png\" width=\"300\" height=\"500\" /> \n",
    "    \n",
    "    \n",
    "### <font color='navy'> Simulación de procesos financieros. \n",
    "\n",
    "**Nombres:** Diego Alberto López Lazareno,  Esteban Márquez Delgado.\n",
    "\n",
    "**Fecha:** 14 de octubre del 2021.\n",
    "\n",
    "**Expediente** : 722100, 700637.\n",
    "**Profesor:** Oscar David Jaramillo Zuluaga.\n",
    "    \n",
    "# Proyecto TEMA-2: Descarga de Datos"
   ]
  },
  {
   "cell_type": "markdown",
   "metadata": {},
   "source": [
    "## Objetivo:\n",
    "\n",
    "+ Descargar los datos fundamentales para las firmas financieras que forman parte del índice S&P $500$ con ayuda de la API de **Financial Modeling Prep**.\n",
    "\n",
    "### Objetivos Específicos:\n",
    "\n",
    "+ Descargar los datos fundamentales para los siguientes nodos: Margen de Beneficio Neto, Ratio Payout, Precio a Dividendos y Beta.\n",
    "+ Filtrar los datos fundamentales con técnicas estadísticas.\n",
    "+ Almacenar los datos fundamentales en un archivo de excel.\n"
   ]
  },
  {
   "cell_type": "code",
   "execution_count": 1,
   "metadata": {},
   "outputs": [],
   "source": [
    "# Librerías necesarias\n",
    "# Análisis y manejo de datos\n",
    "import pandas as pd\n",
    "import numpy as np\n",
    "\n",
    "# Yfinance\n",
    "import yfinance as yf\n",
    "\n",
    "# Visualización\n",
    "import matplotlib.pyplot as plt\n",
    "%matplotlib inline\n",
    "\n",
    "# Conexión a la API de Financial Modeling Prep\n",
    "from pyfmpcloud import settings\n",
    "from pyfmpcloud import company_valuation as cv\n",
    "api_key = pd.read_csv(\"Data/apiKey_FMP.csv\").iloc[0, 0]\n",
    "settings.set_apikey(api_key)\n",
    "\n",
    "# Filtrado de alertas\n",
    "import warnings\n",
    "warnings.filterwarnings(\"ignore\")"
   ]
  },
  {
   "cell_type": "code",
   "execution_count": 2,
   "metadata": {},
   "outputs": [
    {
     "data": {
      "text/html": [
       "<div>\n",
       "<style scoped>\n",
       "    .dataframe tbody tr th:only-of-type {\n",
       "        vertical-align: middle;\n",
       "    }\n",
       "\n",
       "    .dataframe tbody tr th {\n",
       "        vertical-align: top;\n",
       "    }\n",
       "\n",
       "    .dataframe thead th {\n",
       "        text-align: right;\n",
       "    }\n",
       "</style>\n",
       "<table border=\"1\" class=\"dataframe\">\n",
       "  <thead>\n",
       "    <tr style=\"text-align: right;\">\n",
       "      <th></th>\n",
       "      <th>GICS Sub-Industry</th>\n",
       "    </tr>\n",
       "    <tr>\n",
       "      <th>GICS Sub-Industry</th>\n",
       "      <th></th>\n",
       "    </tr>\n",
       "  </thead>\n",
       "  <tbody>\n",
       "    <tr>\n",
       "      <th>Asset Management &amp; Custody Banks</th>\n",
       "      <td>8</td>\n",
       "    </tr>\n",
       "    <tr>\n",
       "      <th>Consumer Finance</th>\n",
       "      <td>4</td>\n",
       "    </tr>\n",
       "    <tr>\n",
       "      <th>Diversified Banks</th>\n",
       "      <td>6</td>\n",
       "    </tr>\n",
       "    <tr>\n",
       "      <th>Financial Exchanges &amp; Data</th>\n",
       "      <td>8</td>\n",
       "    </tr>\n",
       "    <tr>\n",
       "      <th>Insurance Brokers</th>\n",
       "      <td>5</td>\n",
       "    </tr>\n",
       "    <tr>\n",
       "      <th>Investment Banking &amp; Brokerage</th>\n",
       "      <td>4</td>\n",
       "    </tr>\n",
       "    <tr>\n",
       "      <th>Life &amp; Health Insurance</th>\n",
       "      <td>5</td>\n",
       "    </tr>\n",
       "    <tr>\n",
       "      <th>Multi-Sector Holdings</th>\n",
       "      <td>1</td>\n",
       "    </tr>\n",
       "    <tr>\n",
       "      <th>Multi-line Insurance</th>\n",
       "      <td>3</td>\n",
       "    </tr>\n",
       "    <tr>\n",
       "      <th>Property &amp; Casualty Insurance</th>\n",
       "      <td>8</td>\n",
       "    </tr>\n",
       "    <tr>\n",
       "      <th>Regional Banks</th>\n",
       "      <td>11</td>\n",
       "    </tr>\n",
       "    <tr>\n",
       "      <th>Reinsurance</th>\n",
       "      <td>1</td>\n",
       "    </tr>\n",
       "    <tr>\n",
       "      <th>Thrifts &amp; Mortgage Finance</th>\n",
       "      <td>1</td>\n",
       "    </tr>\n",
       "    <tr>\n",
       "      <th>Total</th>\n",
       "      <td>65</td>\n",
       "    </tr>\n",
       "  </tbody>\n",
       "</table>\n",
       "</div>"
      ],
      "text/plain": [
       "                                  GICS Sub-Industry\n",
       "GICS Sub-Industry                                  \n",
       "Asset Management & Custody Banks                  8\n",
       "Consumer Finance                                  4\n",
       "Diversified Banks                                 6\n",
       "Financial Exchanges & Data                        8\n",
       "Insurance Brokers                                 5\n",
       "Investment Banking & Brokerage                    4\n",
       "Life & Health Insurance                           5\n",
       "Multi-Sector Holdings                             1\n",
       "Multi-line Insurance                              3\n",
       "Property & Casualty Insurance                     8\n",
       "Regional Banks                                   11\n",
       "Reinsurance                                       1\n",
       "Thrifts & Mortgage Finance                        1\n",
       "Total                                            65"
      ]
     },
     "execution_count": 2,
     "metadata": {},
     "output_type": "execute_result"
    }
   ],
   "source": [
    "# Se obtienen las compañías listadas en el índice S&P 500 que pertenecen al sector financiero\n",
    "sp500_companies = pd.DataFrame(pd.read_html(\"https://en.wikipedia.org/wiki/List_of_S%26P_500_companies\")[0])\n",
    "financialSector = sp500_companies[sp500_companies[\"GICS Sector\"] == \"Financials\"]\n",
    "# Símbolos de cotización\n",
    "tickers = list(financialSector[\"Symbol\"])\n",
    "\n",
    "# Compañías financieras clasificadas por sub-industria\n",
    "financialSector = pd.DataFrame(financialSector.groupby([\"GICS Sub-Industry\"])[\"GICS Sub-Industry\"].count())\n",
    "financialSector.loc[\"Total\"] = financialSector.values.sum()\n",
    "financialSector"
   ]
  },
  {
   "cell_type": "markdown",
   "metadata": {},
   "source": [
    "+ Existe un total de $65$ empresas del sector financiero que forman parte del índice S&P $500$."
   ]
  },
  {
   "cell_type": "code",
   "execution_count": 3,
   "metadata": {},
   "outputs": [],
   "source": [
    "## ------------------------------------------------ Configuraciones iniciales  --------------------------------------------- ##\n",
    "\n",
    "# Función que calcula el margen de beneficio neto\n",
    "f_netProfitMargin = lambda df : list(df[\"netIncome\"] / df[\"revenue\"])\n",
    "\n",
    "# Función que calcula el ratio payout\n",
    "f_ratioPayout = lambda df : list(abs(df[\"dividendsPaid\"]) / df[\"netIncome\"])\n",
    "\n",
    "# Cálculo de Beta\n",
    "def f_beta(ticker : \"Símbolo de cotización\", start : \"Fecha de inicio\", end : \"Fecha final\"):\n",
    "    \"\"\"\n",
    "    f_beta devuelve la medida de volatilidad entre una acción relativa a al índice S&P 500, es decir, la Beta.\n",
    "    \n",
    "    ticker : Es el símbolo de cotización de una acción.\n",
    "    start : Fecha de inicio para la descarga de precios históricos.\n",
    "    end : Fecha de fin para la descarga de precios históricos.\n",
    "    \n",
    "    \"\"\"\n",
    "    # Descarga de precios históricos\n",
    "    prices = pd.DataFrame()\n",
    "    prices[ticker] = yf.download(ticker, start = start, end = end,  progress = False)[\"Adj Close\"]\n",
    "    prices[\"^GSPC\"] = yf.download(\"^GSPC\", start = start, end = end,  progress = False)[\"Adj Close\"]\n",
    "    \n",
    "    # Cálculo de Beta\n",
    "    CovMatrix = prices.dropna().pct_change().dropna().cov()\n",
    "    beta = CovMatrix.iloc[0, 1] / CovMatrix.iloc[1, 1]\n",
    "        \n",
    "    return beta\n",
    "\n",
    "def histogram(x : \"Variable aleatoria\", density = True, bins = 50, label = \"Etiqueta\", color = \"Color\"):\n",
    "    \"\"\"\n",
    "    histogram devuelve el histograma de la variable aleatoria x.\n",
    "    \n",
    "    x: Variable aleatoria.\n",
    "    density : Es la densidad de la distribución de probabilidad.\n",
    "    bins : Es el número de categorías para el graficado del histograma, por defecto se establece en 50.\n",
    "    label : Es el etiquetado para la visualización.\n",
    "    color : Color del histograma.\n",
    "    \n",
    "    \"\"\"\n",
    "    plt.figure(figsize = (10, 5))\n",
    "    plt.hist(x, bins = bins, density = density, label = label, color = color)\n",
    "    plt.legend();\n",
    "    \n",
    "    \n",
    "def filterByQuantiles(data : \"Datos a filtrar\", alpha = 0.05):\n",
    "    \"\"\"\n",
    "    filterByQuantiles filtra una serie de datos, eliminando los valores que se encuentran en las colas de la distribución.\n",
    "    \n",
    "    data : Son los datos a filtrar.\n",
    "    alpha: Es el nivel de significancia, por defecto se establece en 5%.\n",
    "    \n",
    "    \"\"\"\n",
    "    quantiles = np.quantile(data, [alpha, (1 - alpha)])\n",
    "    filteredData = data[(data >= quantiles[0]) & (data <= quantiles[1])]\n",
    "    \n",
    "    return filteredData\n",
    "    "
   ]
  },
  {
   "cell_type": "markdown",
   "metadata": {},
   "source": [
    "## Nodos"
   ]
  },
  {
   "cell_type": "markdown",
   "metadata": {},
   "source": [
    "### 1. Margen de Beneficio Neto"
   ]
  },
  {
   "cell_type": "code",
   "execution_count": 4,
   "metadata": {},
   "outputs": [
    {
     "data": {
      "image/png": "[encoded data removed]",
      "text/plain": [
       "<Figure size 720x360 with 1 Axes>"
      ]
     },
     "metadata": {
      "needs_background": "light"
     },
     "output_type": "display_data"
    }
   ],
   "source": [
    "# Descarga de datos para la simulación del primer nodo\n",
    "netProfitMargins = np.concatenate(list(map(lambda ticker : \n",
    "                                           f_netProfitMargin(cv.income_statement(ticker)[[\"revenue\", \"netIncome\"]]), tickers)))\n",
    "\n",
    "# Filtrado de datos\n",
    "netProfitMargins = netProfitMargins[(netProfitMargins != float(\"inf\")) & (netProfitMargins != float(\"-inf\"))]\n",
    "netProfitMargins = filterByQuantiles(netProfitMargins)\n",
    "\n",
    "# Visualización\n",
    "histogram(netProfitMargins, bins = 50, label = \"Primer Nodo: Margen de Beneficio Neto\", color = \"navy\")"
   ]
  },
  {
   "cell_type": "markdown",
   "metadata": {},
   "source": [
    "### 2. Ratio Payout"
   ]
  },
  {
   "cell_type": "code",
   "execution_count": 5,
   "metadata": {},
   "outputs": [
    {
     "data": {
      "image/png": "[encoded data removed]",
      "text/plain": [
       "<Figure size 720x360 with 1 Axes>"
      ]
     },
     "metadata": {
      "needs_background": "light"
     },
     "output_type": "display_data"
    }
   ],
   "source": [
    "# Descarga de datos para la simulación del segundo nodo\n",
    "payoutRatios = np.concatenate(list(map(lambda ticker : \n",
    "                                       f_ratioPayout(cv.cash_flow_statement(ticker)[[\"netIncome\", \"dividendsPaid\"]]), tickers)))\n",
    "\n",
    "# Filtrado de datos\n",
    "payoutRatios = payoutRatios[(payoutRatios != float(\"inf\")) & (payoutRatios != float(\"-inf\")) & (payoutRatios > 0)]\n",
    "payoutRatios = filterByQuantiles(payoutRatios)\n",
    "\n",
    "# Visualización\n",
    "histogram(payoutRatios, bins = 50, label = \"Segundo Nodo: Ratio Payout\", color = \"darkcyan\")"
   ]
  },
  {
   "cell_type": "markdown",
   "metadata": {},
   "source": [
    "### 3. Precio a Dividendos"
   ]
  },
  {
   "cell_type": "code",
   "execution_count": 6,
   "metadata": {},
   "outputs": [
    {
     "data": {
      "image/png": "[encoded data removed]",
      "text/plain": [
       "<Figure size 720x360 with 1 Axes>"
      ]
     },
     "metadata": {
      "needs_background": "light"
     },
     "output_type": "display_data"
    }
   ],
   "source": [
    "# Descarga de datos para la simulación del tercer nodo\n",
    "priceToDividends = np.concatenate(list(map(lambda ticker : list(1 / cv.key_metrics(ticker)[\"dividendYield\"]), tickers)))\n",
    "\n",
    "# Filtrado de datos\n",
    "priceToDividends = priceToDividends[(priceToDividends > 0)]\n",
    "priceToDividends = filterByQuantiles(priceToDividends)\n",
    "\n",
    "# Visualización\n",
    "histogram(priceToDividends, bins = 50, label = \"Tercer Nodo: Precio a Dividendos\", color = \"dodgerblue\")"
   ]
  },
  {
   "cell_type": "markdown",
   "metadata": {},
   "source": [
    "### 4. Beta"
   ]
  },
  {
   "cell_type": "code",
   "execution_count": 7,
   "metadata": {
    "scrolled": true
   },
   "outputs": [
    {
     "name": "stdout",
     "output_type": "stream",
     "text": [
      "\n",
      "1 Failed download:\n",
      "- BRK.B: No data found, symbol may be delisted\n",
      "\n",
      "1 Failed download:\n",
      "- CFG: Data doesn't exist for startDate = 1262325600, endDate = 1293775200\n",
      "\n",
      "1 Failed download:\n",
      "- SYF: Data doesn't exist for startDate = 1262325600, endDate = 1293775200\n",
      "\n",
      "1 Failed download:\n",
      "- BRK.B: No data found, symbol may be delisted\n",
      "\n",
      "1 Failed download:\n",
      "- CFG: Data doesn't exist for startDate = 1293861600, endDate = 1325311200\n",
      "\n",
      "1 Failed download:\n",
      "- SYF: Data doesn't exist for startDate = 1293861600, endDate = 1325311200\n",
      "\n",
      "1 Failed download:\n",
      "- BRK.B: No data found, symbol may be delisted\n",
      "\n",
      "1 Failed download:\n",
      "- CFG: Data doesn't exist for startDate = 1325397600, endDate = 1356933600\n",
      "\n",
      "1 Failed download:\n",
      "- SYF: Data doesn't exist for startDate = 1325397600, endDate = 1356933600\n",
      "\n",
      "1 Failed download:\n",
      "- BRK.B: No data found, symbol may be delisted\n",
      "\n",
      "1 Failed download:\n",
      "- CFG: Data doesn't exist for startDate = 1357020000, endDate = 1388469600\n",
      "\n",
      "1 Failed download:\n",
      "- SYF: Data doesn't exist for startDate = 1357020000, endDate = 1388469600\n",
      "\n",
      "1 Failed download:\n",
      "- BRK.B: No data found, symbol may be delisted\n",
      "\n",
      "1 Failed download:\n",
      "- BRK.B: No data found, symbol may be delisted\n",
      "\n",
      "1 Failed download:\n",
      "- BRK.B: No data found, symbol may be delisted\n",
      "\n",
      "1 Failed download:\n",
      "- BRK.B: No data found, symbol may be delisted\n",
      "\n",
      "1 Failed download:\n",
      "- BRK.B: No data found, symbol may be delisted\n",
      "\n",
      "1 Failed download:\n",
      "- BRK.B: No data found, symbol may be delisted\n",
      "\n",
      "1 Failed download:\n",
      "- BRK.B: No data found, symbol may be delisted\n"
     ]
    }
   ],
   "source": [
    "# Descarga de datos para la simulación del cuarto nodo\n",
    "dates = [(str(i) + \"-01-01\", str(i) + \"-12-31\") for i in range(2010, 2021)]\n",
    "betas = list(map(lambda date : list(map(lambda ticker : f_beta(ticker, date[0], date[1]), tickers)), dates))\n",
    "\n",
    "# Filtrado de datos\n",
    "betasDF = pd.DataFrame(np.concatenate(betas)).dropna()\n",
    "betasFinancialSector = list(map(lambda i : float(betasDF.iloc[i]), range(len(betasDF))))\n",
    "betasFinancialSector = filterByQuantiles(np.array(betasFinancialSector))"
   ]
  },
  {
   "cell_type": "code",
   "execution_count": 8,
   "metadata": {},
   "outputs": [
    {
     "data": {
      "image/png": "[encoded data removed]",
      "text/plain": [
       "<Figure size 720x360 with 1 Axes>"
      ]
     },
     "metadata": {
      "needs_background": "light"
     },
     "output_type": "display_data"
    }
   ],
   "source": [
    "# Visualización\n",
    "histogram(betasFinancialSector, bins = 50, label = \"Cuarto Nodo: Beta\", color = \"steelblue\")"
   ]
  },
  {
   "cell_type": "code",
   "execution_count": 9,
   "metadata": {},
   "outputs": [],
   "source": [
    "# Almacenamiento de información en excel\n",
    "pd.DataFrame(netProfitMargins).to_excel(\"Data/MargenNeto.xlsx\", sheet_name = \"Nodo1\")\n",
    "pd.DataFrame(payoutRatios).to_excel(\"Data/RatioPayout.xlsx\", sheet_name = \"Nodo2\")\n",
    "pd.DataFrame(priceToDividends).to_excel(\"Data/PrecioDividendos.xlsx\", sheet_name = \"Nodo3\")\n",
    "pd.DataFrame(betasFinancialSector).to_excel(\"Data/Betas.xlsx\", sheet_name = \"Nodo4\")"
   ]
  }
 ],
 "metadata": {
  "kernelspec": {
   "display_name": "Python 3",
   "language": "python",
   "name": "python3"
  },
  "language_info": {
   "codemirror_mode": {
    "name": "ipython",
    "version": 3
   },
   "file_extension": ".py",
   "mimetype": "text/x-python",
   "name": "python",
   "nbconvert_exporter": "python",
   "pygments_lexer": "ipython3",
   "version": "3.7.1"
  }
 },
 "nbformat": 4,
 "nbformat_minor": 2
}

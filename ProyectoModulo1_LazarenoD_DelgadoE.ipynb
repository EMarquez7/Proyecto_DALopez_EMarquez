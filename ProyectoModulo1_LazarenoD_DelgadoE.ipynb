{
 "cells": [
  {
   "cell_type": "markdown",
   "metadata": {},
   "source": [
    "<img style=\"float: left; margin: 30px 15px 15px 15px;\" src=\"https://pngimage.net/wp-content/uploads/2018/06/logo-iteso-png-5.png\" width=\"300\" height=\"500\" /> \n",
    "    \n",
    "    \n",
    "### <font color='navy'> Simulación de Procesos Financieros. \n",
    "\n",
    "**Nombres:** Diego Alberto López Lazareno (Estudiante 1) y Esteban Márquez Delgado (Estudiante 2).\n",
    "\n",
    "**Fecha:** 14 de octubre del 2021.\n",
    "\n",
    "**Expediente** : IF722100, IF700637.\n",
    "**Profesor:** Oscar David Jaramillo Zuluaga.\n",
    "    \n",
    "**Link Github**: https://github.com/diegolazareno/Proyecto_DALopez_EMarquez\n",
    "\n",
    "# Proyecto TEMA-2"
   ]
  },
  {
   "cell_type": "markdown",
   "metadata": {},
   "source": [
    "# 1.1 Valuación Intrínseca Probabilista:\n",
    "## O Cómo Valorar Empresas Financieras Con Simulación Montecarlo"
   ]
  },
  {
   "cell_type": "markdown",
   "metadata": {},
   "source": [
    "## 1.2 Objetivos\n",
    "\n",
    "### 1.2.1 Objetivo General\n",
    "+ \n",
    "\n",
    "### 1.2.2 Objetivos Específicos\n",
    "+ \n",
    "+ \n",
    "+ "
   ]
  },
  {
   "cell_type": "markdown",
   "metadata": {},
   "source": [
    "## 1.3 Definición"
   ]
  },
  {
   "cell_type": "markdown",
   "metadata": {},
   "source": [
    "<img src = \"Diagrama.png\" width = \"760\" height = \"395\">"
   ]
  },
  {
   "cell_type": "code",
   "execution_count": 2,
   "metadata": {},
   "outputs": [],
   "source": [
    "#<img src = \"Diagrama.png\" width = \"760px\" height = \"395px\">"
   ]
  },
  {
   "cell_type": "markdown",
   "metadata": {},
   "source": [
    "## 1.4 Nodos"
   ]
  },
  {
   "cell_type": "markdown",
   "metadata": {},
   "source": [
    "## 1.5 Hipótesis & Supuestos\n",
    "\n",
    "### 1.5.1 Definición de Hipótesis\n",
    "\n",
    "### 1.5.2 Definición de Supuestos"
   ]
  },
  {
   "cell_type": "markdown",
   "metadata": {},
   "source": [
    "## 1.6 Obtención De Bases De Datos"
   ]
  },
  {
   "cell_type": "code",
   "execution_count": 1,
   "metadata": {},
   "outputs": [],
   "source": [
    "# Librerías necesarias\n",
    "# Análisis y manejo de datos\n",
    "import pandas as pd\n",
    "import numpy as np\n",
    "\n",
    "# Yfinance\n",
    "import yfinance as yf\n",
    "\n",
    "# Conexión a la API de Financial Modeling Prep\n",
    "from pyfmpcloud import settings\n",
    "from pyfmpcloud import company_valuation as cv\n",
    "api_key = pd.read_csv(\"Data/apiKey_FMP.csv\").iloc[0, 0]\n",
    "settings.set_apikey(api_key)\n",
    "\n",
    "# Filtrado de alertas\n",
    "import warnings\n",
    "warnings.filterwarnings(\"ignore\")"
   ]
  },
  {
   "cell_type": "markdown",
   "metadata": {},
   "source": [
    "## 1.7 Simulación"
   ]
  },
  {
   "cell_type": "code",
   "execution_count": 35,
   "metadata": {},
   "outputs": [],
   "source": [
    "def intrisicValue(ticker, revenueGrowth1, priceToDividends):\n",
    "    \n",
    "    incomeStatement = cv.income_statement(ticker).iloc[0 : 5]\n",
    "    cashflowStatement = cv.cash_flow_statement(ticker).iloc[0 : 5]\n",
    "    \n",
    "    # Primeros 5 años\n",
    "    netProfitMargin_d = np.median(incomeStatement[\"netIncome\"] / incomeStatement[\"revenue\"])\n",
    "    payoutRatio_d = np.median(abs(cashflowStatement[\"dividendsPaid\"]) / incomeStatement[\"netIncome\"])\n",
    "    r = 0.075\n",
    "    \n",
    "    lastRevenues = incomeStatement[\"revenue\"].iloc[0]\n",
    "    estimatedRevenues1 = np.array([lastRevenues * (1 + revenueGrowth1) ** t for t in range(1, 6)])\n",
    "    estimatedNetIncome1 = estimatedRevenues1 * netProfitMargin_d\n",
    "    estimatedDividends1 = estimatedNetIncome1 * payoutRatio_d\n",
    "    estimatedDividends1[-1] = estimatedDividends1[-1] + estimatedDividends1[-1] * priceToDividends\n",
    "    dividendsPV = [dividend / ((1 + r) ** t) for dividend, t in zip(estimatedDividends1, range(1, 6))]\n",
    "    \n",
    "    intrinsicValuePerShare = sum(dividendsPV) / incomeStatement[\"weightedAverageShsOut\"].iloc[0]\n",
    "    \n",
    "    return intrinsicValuePerShare "
   ]
  },
  {
   "cell_type": "code",
   "execution_count": 40,
   "metadata": {},
   "outputs": [
    {
     "data": {
      "text/plain": [
       "96.24859674068266"
      ]
     },
     "execution_count": 40,
     "metadata": {},
     "output_type": "execute_result"
    }
   ],
   "source": [
    "intrisicValue(\"JPM\", 2.5 / 100, 30)"
   ]
  },
  {
   "cell_type": "code",
   "execution_count": 15,
   "metadata": {},
   "outputs": [],
   "source": [
    "df1 = incomeStatement = cv.income_statement(\"BAC\").iloc[0 : 5]\n",
    "df2 = cashflowStatement = cv.cash_flow_statement(\"BAC\").iloc[0 : 5]"
   ]
  },
  {
   "cell_type": "code",
   "execution_count": 16,
   "metadata": {},
   "outputs": [],
   "source": [
    "def intrisicValue(ticker, revenueGrowth1, revenueGrowth2, netProfitMargin_p, payoutRatio_p, priceToDividends, df1, df2):\n",
    "    \n",
    "    #incomeStatement = cv.income_statement(ticker).iloc[0 : 5]\n",
    "    #cashflowStatement = cv.cash_flow_statement(ticker).iloc[0 : 5]\n",
    "    incomeStatement = df1\n",
    "    cashflowStatement = df2\n",
    "    \n",
    "    # Año 1 a 5: determinista\n",
    "    netProfitMargin_d = np.median(incomeStatement[\"netIncome\"] / incomeStatement[\"revenue\"])\n",
    "    payoutRatio_d = np.median(abs(cashflowStatement[\"dividendsPaid\"]) / incomeStatement[\"netIncome\"])\n",
    "    r = 0.075\n",
    "    \n",
    "    lastRevenues = incomeStatement[\"revenue\"].iloc[0]\n",
    "    estimatedRevenues1 = np.array([lastRevenues * (1 + revenueGrowth1) ** t for t in range(1, 6)])\n",
    "    estimatedNetIncome1 = estimatedRevenues1 * netProfitMargin_d\n",
    "    estimatedDividends1 = estimatedNetIncome1 * payoutRatio_d\n",
    "    dividendsPV1 = [dividend / ((1 + r) ** t) for dividend, t in zip(estimatedDividends1, range(1, 6))]\n",
    "    \n",
    "    # Año 6 a 10: probabilista\n",
    "    estimatedRevenues2 = np.array([estimatedRevenues1[-1] * (1 + revenueGrowth2) ** t for t in range(1, 6)])\n",
    "    estimatedNetIncome2 = estimatedRevenues2 * np.linspace(netProfitMargin_d, netProfitMargin_p, 5)\n",
    "    estimatedDividends2 = estimatedNetIncome2 * np.linspace(payoutRatio_d, payoutRatio_p, 5)\n",
    "    estimatedDividends2[-1] = estimatedDividends2[-1] + estimatedDividends2[-1] * priceToDividends\n",
    "    dividendsPV2 = [dividend / ((1 + r) ** t) for dividend, t in zip(estimatedDividends2, range(6, 11))]\n",
    "    \n",
    "    intrinsicValuePerShare = (sum(dividendsPV1) + sum(dividendsPV2)) / incomeStatement[\"weightedAverageShsOut\"].iloc[0]\n",
    "    \n",
    "    return intrinsicValuePerShare "
   ]
  },
  {
   "cell_type": "code",
   "execution_count": 17,
   "metadata": {
    "scrolled": false
   },
   "outputs": [],
   "source": [
    "iv = [intrisicValue(\"BAC\", 0.025, 0.02, np.random.uniform(0.05, 0.30), np.random.uniform(0.10, 0.75), \n",
    "                    np.random.uniform(10, 65), df1, df2) for i in range(10000)]"
   ]
  },
  {
   "cell_type": "code",
   "execution_count": 18,
   "metadata": {},
   "outputs": [
    {
     "data": {
      "image/png": "[encoded data removed]",
      "text/plain": [
       "<Figure size 432x360 with 1 Axes>"
      ]
     },
     "metadata": {
      "needs_background": "light"
     },
     "output_type": "display_data"
    }
   ],
   "source": [
    "import matplotlib.pyplot as plt\n",
    "plt.figure(figsize = (6, 5))\n",
    "plt.hist(iv, density = True, bins = 100);"
   ]
  },
  {
   "cell_type": "code",
   "execution_count": 19,
   "metadata": {},
   "outputs": [
    {
     "data": {
      "text/plain": [
       "21.30581932081575"
      ]
     },
     "execution_count": 19,
     "metadata": {},
     "output_type": "execute_result"
    }
   ],
   "source": [
    "np.mean(iv)"
   ]
  },
  {
   "cell_type": "markdown",
   "metadata": {},
   "source": [
    "## 1.8 Visualización De Resultados de Simulación"
   ]
  },
  {
   "cell_type": "markdown",
   "metadata": {},
   "source": [
    "## 1.9 Conclusiones"
   ]
  },
  {
   "cell_type": "markdown",
   "metadata": {},
   "source": [
    "## 1.10 Referencias Consultadas"
   ]
  }
 ],
 "metadata": {
  "kernelspec": {
   "display_name": "Python 3",
   "language": "python",
   "name": "python3"
  },
  "language_info": {
   "codemirror_mode": {
    "name": "ipython",
    "version": 3
   },
   "file_extension": ".py",
   "mimetype": "text/x-python",
   "name": "python",
   "nbconvert_exporter": "python",
   "pygments_lexer": "ipython3",
   "version": "3.7.1"
  }
 },
 "nbformat": 4,
 "nbformat_minor": 2
}

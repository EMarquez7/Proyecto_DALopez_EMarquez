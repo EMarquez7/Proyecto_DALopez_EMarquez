{
 "cells": [
  {
   "cell_type": "markdown",
   "metadata": {},
   "source": [
    "<img style=\"float: left; margin: 30px 15px 15px 15px;\" src=\"https://pngimage.net/wp-content/uploads/2018/06/logo-iteso-png-5.png\" width=\"300\" height=\"500\" /> \n",
    "    \n",
    "    \n",
    "### <font color='navy'> Simulación de procesos financieros. \n",
    "\n",
    "**Nombres:** Diego Alberto López Lazareno,  Esteban Márquez Delgado.\n",
    "\n",
    "**Fecha:** 14 de octubre del 2021.\n",
    "\n",
    "**Expediente** : 722100, 700637.\n",
    "**Profesor:** Oscar David Jaramillo Zuluaga.\n",
    "    \n",
    "# Proyecto TEMA-2"
   ]
  },
  {
   "cell_type": "markdown",
   "metadata": {},
   "source": [
    "<img style=\"float: right; margin: 0px 0px 15px 15px;\" src=\"https://upload.wikimedia.org/wikipedia/commons/b/b6/Proyecto_en_construccion.jpg\" width=\"300px\" height=\"100px\" />\n",
    "\n",
    "\n",
    "# Proyecto Módulo 2- Guía.\n",
    "> Se especifican los componentes básicos que deberá tener cada proyecto. El proyecto debe ser un problema que utilice datos reales, ya sea de una empresa física real o de alguna página de internet que proporcione bases de datos confiables. Con la información obtenida, se pretende utilizar todas las herramientas vistas durante el curso para la correcta modelación y simulación del cierto problema con ciertas variables de interés."
   ]
  },
  {
   "cell_type": "markdown",
   "metadata": {},
   "source": [
    "1) Definición del problema, se debe describir en un documento, ¿cuál es el escenario de negocio que se va a modelar?, identificar cuáles son los supuestos que defines en el negocio y cuáles son los \"nodos\" o \"escenarios\" que identificas necesarios simular y porqué. Debes elaborar un diagrama de inicio a fin, identificando los \"nodos\" o \"escenarios\" a simular.\n",
    "\n",
    "2) En el documento se deben indicar los miembros del equipo que trabajarán"
   ]
  },
  {
   "cell_type": "markdown",
   "metadata": {},
   "source": [
    "## ¿Cuál es el escenario de negocio que se va a modelar?\n",
    "\n",
    "Se modelará la valoración de acciones de empresas que pertenecen al sector financiero a través del **Modelo de Dividendos Descontados**. Esta técnica de valoración consiste en descontar o *traer a valor presente* los futuros flujos de efectivo, en este caso los dividendos, que se esperan obtener por la tenencia de una acción. El descuento de dichos flujos de efectivo esperados se conoce como **valor intrínseco**: esto representa la cantidad máxima que debería pagar un inversor por una participación en un negocio si considera a sus pronósticos como suficientemente certeros. \n",
    "\n",
    "Como se mencionó, es a través del Modelo de Dividendos Descontados que se puede conocer el valor intrínseco de un negocio, o bien, de sus acciones, pues éstas representan una participación dentro del mismo. Tal modelo suele ser empleado para valorar empresas que pertenecen al sector financiero, por lo que en este proyecto se valorarán únicamente empresas financieras (bancos comerciales, aseguradoras, bancos de inversión, etc.) que pertenezcan al índice S&P $500$ (actualmente son cerca de $65$ empresas). Lo interesante de esta técnica de valoración es que necesita de varios inputs para pronosticar el crecimiento de los dividendos y su posterior descuento. Aquí es donde entran las herramientas que hemos aprendido durante el curso: tomaremos de una base de datos, [Financial Modeling Prep](https://financialmodelingprep.com/developer/docs), los fundamentales de estas empresas financieras durante varios ejercicios fiscales para simular los distintos nodos que consideramos necesarios; de esta forma estamos llevando la valoración fundamental a un terreno probabilista, donde las distribuciones de características de las demás firmas servirán como inputs para el modelo. \n",
    "\n",
    "### Objetivo\n",
    "> Lo que buscamos con este proyecto es obtener una distribución de probabilidad que refleje el valor intrínseco de una acción para distintos escenarios, donde en cada uno de estos los fundamentales del negocio cambiarán al largo plazo (en torno al año $5$ de valoración); adquiriendo así características de otras firmas, dadas por la distribución de probabilidad de fundamentales del conjunto de firmas que pertenecen al sector financiero. La principal motivación de esta aventura es que como inversores nos es más útil una distribución de probabilidades para el valor intrínseco de un activo, ya que de esta forma se captura la incertidumbre del mundo cambiante en el que estas empresas desenvuelven sus operaciones.\n",
    "\n",
    "A continuación se da una breve explicación sobre el Modelo de Dividendos Descontados:\n",
    "\n",
    "### Modelo de Dividendos Descontados\n",
    "\n",
    "Cuando un inversor compra una acción generalmente espera recibir dos tipos de flujos de efectivo: dividendos durante el periodo de tenencia del activo y un precio esperado al final de dicho periodo. Ya que éste último se determina por dividendos futuros podemos afirmar que el valor intrínseco de una acción es el valor presente de los dividendos que el inversor espera recibir hasta el infinito.\n",
    "\n",
    "$$ Valor \\space por \\space Acción = \\sum_{t = 1}^{t = \\infty} \\frac{E[DPS_t]} {(1 + k_e)^t} $$\n",
    "\n",
    "donde:\n",
    "\n",
    "+ $DPS_t$ = Dividendos Esperados por Acción\n",
    "+ $k_e$ = Tasa de Descuento (Cost of Equity)\n",
    "\n",
    "Ya que es imposible hacer estimaciones de los dividendos hasta el infinito se han desarrollado varias versiones del modelo de dividendos descontados basadas en distintas suposiciones sobre el crecimiento futuro.\n",
    "\n",
    "### Modelo de Dividendos Descontados de Dos Etapas\n",
    "\n",
    "Este modelo permite que existan dos etapas de crecimiento: una fase inicial donde la tasa de crecimiento no es estable y una fase subsecuente donde la tasa de crecimiento es estable y se espera que permanezca de tal forma para el largo plazo. En la mayoría de los casos la tasa de crecimiento durante la fase inicial suele ser más alta que la tasa de crecimiento estable. Sin embargo, el modelo puede ser adaptado para valuar compañías que esperan un crecimiento bajo o negativo por algunos años y que luego revierte a un crecimiento estable.\n",
    "\n",
    "$$ P_0 = \\sum_{t = 1}^{t = n} \\frac{DPS_t} {(1 + k_{e, hg})^t} + \\frac{P_n}{(1 + k_{e, hg})^n} $$\n",
    "\n",
    "donde:\n",
    "\n",
    "+ $P_n = \\frac{DPS_{n+1}}{(k_{e, st} - g_n)}$\n",
    "+ $DPS_t$ = Dividendos Esperados por Acción en el Año $t$\n",
    "+ $k_e$ = Cost of Equity ($hg$: Fase de Alto Crecimiento, $st$: Fase de Crecimiento Estable)\n",
    "+ $P_n$ = Valor Terminal (Precio) al Final del Año $n$\n",
    "+ $g$ = Tasa de Crecimiento Extraordinario (primeros $n$ años)\n",
    "+ $g_n$ = Tasa de Crecimiento Estable (después del año $n$)\n",
    "\n",
    "En el caso en que la tasa de crecimiento extraordinaria (inicial) $g$ y el ratio payout no sean alterados para los primeros $n$ años, la anterior fórmula puede ser escrita de la siguiente manera:\n",
    "\n",
    "$$ P_0 = \\frac{DPS_0*(1 + g)*(1 - \\frac{(1 + g)^n}{(1 + k_{e, hg})^n})}{k_{e, hg} - g} + \\frac{DPS_{n+1}}{(k_{e, st} - g_n)(1 + k_{e, hg})^n} $$\n",
    "\n"
   ]
  },
  {
   "cell_type": "markdown",
   "metadata": {},
   "source": [
    "## Supuestos \n",
    "\n",
    "1. Suponemos que se puede determinar un valor intrínseco, al menos lo suficientemente certero, para las firmas pertenecientes al sector financiero a través del Modelo de Dividendos Descontados. \n",
    "2. A su vez, al emplear estos métodos de valoración, suponemos que los mercados no son completamente eficientes; ya que de serlo no sería necesaria una valoración, pues el precio al que se negocian las acciones reflejaría el valor del negocio a cada momento. \n",
    "3. Otro gran supuesto es que los fundamentales de cada firma en lo individual podrán experimentar, en un momento futuro, desviaciones importantes hacia los fundamentales de otras firmas, reflejando así los distintos ciclos de negocio: una firma con un éxito extraordinario podría volverse un negocio mediocre, y viceversa, una firma mediocre, con el tiempo, podría volverse un negocio extraordinario. Este supuesto es el que conforma la piedra angular de este proyecto; pues hay que recordar que obtendremos distribuciones de probabilidad con los fundamentales de todas las firmas del sector financiero para llevar a cabo las valoraciones.\n",
    "4. Suponemos que las distribuciones de probabilidad de los nodos que simularemos son independientes entre sí."
   ]
  },
  {
   "cell_type": "markdown",
   "metadata": {},
   "source": [
    "## Nodos \n",
    "\n",
    "El **Modelo de Dividendos Descontados** necesita de proyecciones, en específico para los dividendos que se esperan obtener por la tenencia de una acción. Las firmas financieras suelen pagar dividendos a sus accionistas, por lo que este modelo nos es útil para determinar un valor intrínseco para tales empresas. Para llegar a los dividendos que se reparten a los accionistas hay que empezar por pronosticar las ventas de la empresa (estas las obtendremos en base a un estudio cualitativo). Una vez hecho esto se deben conocer los ingresos netos que tendrá la empresa, para esto es útil el margen de beneficio neto; nuestro primer nodo a simular:\n",
    "\n",
    "### 1. Margen de beneficio neto \n",
    "\n",
    "El **Margen de beneficio neto** es el porcentaje de las ventas que queda a una empresa después de las erogaciones originadas por los costos, pagos de intereses e impuestos. Matemáticamente se define como:\n",
    "\n",
    "$$ Margen \\space de \\space beneficio \\space neto = \\frac{Utilidad \\space neta}{Ventas} $$\n",
    "\n",
    "Con ayuda de la base de datos (que proporciona fundamentales de todas las firmas pertenecientes al sector financiero) obtendremos una distribución de probabilidad para el margen de beneficio neto, de esta forma podremos simular distintos escenarios para la valoración de una firma en específico, donde en un periodo futuro sus fundamentales se desvían hacia alguna variable aleatoria, algún otro margen de beneficio neto, que se encuentre en la distribución de probabilidad. Reflejando así el que una empresa con un amplio margen puede caer en un margen neto mediocre, y viceversa, que una empresa con márgenes mediocres puede gozar en un futuro de jugosos márgenes.\n",
    "\n",
    "### 2. Ratio payout\n",
    "\n",
    "Una vez se tienen los beneficios netos el consejo de administración decide la repartición de dividendos a los accionistas. El **Ratio payout** nos ayuda a cuantificar qué proporción de tales ingresos se reparten a los tenedores de acciones. Matemáticamente se define como:\n",
    "\n",
    "$$ Ratio \\space payout = \\frac{Dividendos}{Utilidad \\space neta} $$\n",
    "\n",
    "A través de la simulación tendremos distintos escenarios para una etapa futura en la valoración, donde el ratio payout de cualquier firma se desvía hacia otro ratio payout, esto lograría capturar que, dependiendo del ciclo económico, se aumenta o recorta el reparto de dividendos a los accionistas.\n",
    "\n",
    "\n",
    "### 3. Precio a dividendos\n",
    "\n",
    "El ratio **Precio a dividendos** es simplemente un múltiplo que indica a un inversor cuánto está pagando por cada unidad de dividendos que se reparten al momento que adquiere una acción. Matemáticamente se define como: \n",
    "\n",
    "$$ Precio \\space a \\space dividendos = \\frac{Precio \\space por \\space acción}{Dividendos \\space por \\space acción} $$\n",
    "\n",
    "Tal múltiplo nos ayudará a determinar un valor terminal para la acción que estemos valorando. Este nodo es importante porque no podemos seguir pronosticando dividendos perpetuamente, por ello es necesario un valor terminal que refleje el precio hipotético que se obtendría para la acción al final de la valoración. Esto se logra con el producto entre el ratio Precio a dividendos y el último dividendo estimado.\n",
    "\n",
    "### 4. Beta\n",
    "\n",
    "Una vez hechos los pronósticos es necesario descontarlos a valor presente. Para ello se empleará el modelo $CAPM$, donde uno de sus inputs es la **Beta**, la cual nos ayuda a cuantificar el riesgo sistémico o de mercado. Para nuestros escenarios de valoración descontaremos los flujos de efectivo esperados con distintas tasas ajustadas al riesgo; que provendrán de la distribución de probabilidad para las betas de todas las firmas pertenecientes al sector financiero. \n",
    "\n",
    "**El valor arrojado después de descontar los dividendos será el valor intrínseco para la firma en cuestión en el escenario i-ésimo.**\n"
   ]
  },
  {
   "cell_type": "markdown",
   "metadata": {},
   "source": [
    "## Diagrama"
   ]
  },
  {
   "cell_type": "markdown",
   "metadata": {},
   "source": [
    "<img src = \"Diagrama.png\" width = \"760px\" height = \"395px\">"
   ]
  }
 ],
 "metadata": {
  "kernelspec": {
   "display_name": "Python 3",
   "language": "python",
   "name": "python3"
  },
  "language_info": {
   "codemirror_mode": {
    "name": "ipython",
    "version": 3
   },
   "file_extension": ".py",
   "mimetype": "text/x-python",
   "name": "python",
   "nbconvert_exporter": "python",
   "pygments_lexer": "ipython3",
   "version": "3.7.1"
  }
 },
 "nbformat": 4,
 "nbformat_minor": 2
}

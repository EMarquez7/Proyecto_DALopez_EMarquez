{
 "cells": [
  {
   "cell_type": "markdown",
   "metadata": {},
   "source": [
    "<img style=\"float: left; margin: 30px 15px 15px 15px;\" src=\"https://pngimage.net/wp-content/uploads/2018/06/logo-iteso-png-5.png\" width=\"300\" height=\"500\" /> \n",
    "    \n",
    "    \n",
    "### <font color='navy'> Simulación de procesos financieros. \n",
    "\n",
    "**Nombres:** Diego Alberto López Lazareno,  Esteban Márquez Delgado.\n",
    "\n",
    "**Fecha:** 14 de octubre del 2021.\n",
    "\n",
    "**Expediente** : 722100, 700637.\n",
    "**Profesor:** Oscar David Jaramillo Zuluaga.\n",
    "    \n",
    "# Proyecto TEMA-2: Descarga de Datos"
   ]
  },
  {
   "cell_type": "markdown",
   "metadata": {},
   "source": [
    "## Objetivo:\n",
    "\n",
    "+ Descargar los datos fundamentales para las firmas financieras que forman parte del índice S&P $500$ con ayuda de la API de **Financial Modeling Prep**.\n",
    "\n",
    "### Objetivos Específicos:\n",
    "\n",
    "+ Descargar los datos fundamentales para los siguientes nodos: Margen de Beneficio Neto, Ratio Payout, Precio a Dividendos y Beta.\n",
    "+ Filtrar los datos fundamentales con técnicas estadísticas.\n",
    "+ Almacenar los datos fundamentales en un archivo de excel.\n"
   ]
  },
  {
   "cell_type": "code",
   "execution_count": 5,
   "metadata": {
    "ExecuteTime": {
     "end_time": "2021-11-02T16:23:11.662845Z",
     "start_time": "2021-11-02T16:23:06.811812Z"
    }
   },
   "outputs": [
    {
     "ename": "ModuleNotFoundError",
     "evalue": "No module named 'plotly'",
     "output_type": "error",
     "traceback": [
      "\u001b[1;31m---------------------------------------------------------------------------\u001b[0m",
      "\u001b[1;31mModuleNotFoundError\u001b[0m                       Traceback (most recent call last)",
      "\u001b[1;32m<ipython-input-5-286730855aaa>\u001b[0m in \u001b[0;36m<module>\u001b[1;34m\u001b[0m\n\u001b[0;32m     20\u001b[0m \u001b[1;33m\u001b[0m\u001b[0m\n\u001b[0;32m     21\u001b[0m \u001b[1;31m#Librería de box-whisker plots.\u001b[0m\u001b[1;33m\u001b[0m\u001b[1;33m\u001b[0m\u001b[1;33m\u001b[0m\u001b[0m\n\u001b[1;32m---> 22\u001b[1;33m \u001b[1;32mimport\u001b[0m \u001b[0mplotly\u001b[0m\u001b[1;33m.\u001b[0m\u001b[0mexpress\u001b[0m \u001b[1;32mas\u001b[0m \u001b[0mpx\u001b[0m\u001b[1;33m\u001b[0m\u001b[1;33m\u001b[0m\u001b[0m\n\u001b[0m\u001b[0;32m     23\u001b[0m \u001b[1;33m\u001b[0m\u001b[0m\n\u001b[0;32m     24\u001b[0m \u001b[1;31m# Conexión a la API de Financial Modeling Prep\u001b[0m\u001b[1;33m\u001b[0m\u001b[1;33m\u001b[0m\u001b[1;33m\u001b[0m\u001b[0m\n",
      "\u001b[1;31mModuleNotFoundError\u001b[0m: No module named 'plotly'"
     ]
    }
   ],
   "source": [
    "# Librerías necesarias\n",
    "# Análisis y manejo de datos\n",
    "import pandas as pd\n",
    "import numpy as np\n",
    "\n",
    "# Yfinance\n",
    "import yfinance as yf\n",
    "import seaborn as sns\n",
    "\n",
    "# Visualización\n",
    "import matplotlib.pyplot as plt\n",
    "%matplotlib inline\n",
    "\n",
    "# Librerías de estimación de densidad KDE\n",
    "from sklearn.neighbors import KernelDensity \n",
    "from scipy.stats import gaussian_kde \n",
    "from statsmodels.nonparametric.kde import KDEUnivariate\n",
    "from statsmodels.nonparametric.kernel_density import KDEMultivariate\n",
    "from scipy.stats.distributions import norm\n",
    "\n",
    "#Librería de box-whisker plots.\n",
    "import plotly.express as px\n",
    "\n",
    "# Conexión a la API de Financial Modeling Prep\n",
    "#from pyfmpcloud import settings\n",
    "#from pyfmpcloud import company_valuation as cv\n",
    "#api_key = pd.read_csv(\"Data/apiKey_FMP.csv\").iloc[0, 0]\n",
    "#settings.set_apikey(api_key)\n",
    "\n",
    "# Filtrado de alertas\n",
    "import warnings\n",
    "warnings.filterwarnings(\"ignore\")"
   ]
  },
  {
   "cell_type": "code",
   "execution_count": 2,
   "metadata": {
    "ExecuteTime": {
     "end_time": "2021-11-02T15:12:47.404264Z",
     "start_time": "2021-11-02T15:12:46.129236Z"
    }
   },
   "outputs": [
    {
     "data": {
      "text/html": [
       "<div>\n",
       "<style scoped>\n",
       "    .dataframe tbody tr th:only-of-type {\n",
       "        vertical-align: middle;\n",
       "    }\n",
       "\n",
       "    .dataframe tbody tr th {\n",
       "        vertical-align: top;\n",
       "    }\n",
       "\n",
       "    .dataframe thead th {\n",
       "        text-align: right;\n",
       "    }\n",
       "</style>\n",
       "<table border=\"1\" class=\"dataframe\">\n",
       "  <thead>\n",
       "    <tr style=\"text-align: right;\">\n",
       "      <th></th>\n",
       "      <th>GICS Sub-Industry</th>\n",
       "    </tr>\n",
       "    <tr>\n",
       "      <th>GICS Sub-Industry</th>\n",
       "      <th></th>\n",
       "    </tr>\n",
       "  </thead>\n",
       "  <tbody>\n",
       "    <tr>\n",
       "      <th>Asset Management &amp; Custody Banks</th>\n",
       "      <td>8</td>\n",
       "    </tr>\n",
       "    <tr>\n",
       "      <th>Consumer Finance</th>\n",
       "      <td>4</td>\n",
       "    </tr>\n",
       "    <tr>\n",
       "      <th>Diversified Banks</th>\n",
       "      <td>6</td>\n",
       "    </tr>\n",
       "    <tr>\n",
       "      <th>Financial Exchanges &amp; Data</th>\n",
       "      <td>8</td>\n",
       "    </tr>\n",
       "    <tr>\n",
       "      <th>Insurance Brokers</th>\n",
       "      <td>5</td>\n",
       "    </tr>\n",
       "    <tr>\n",
       "      <th>Investment Banking &amp; Brokerage</th>\n",
       "      <td>4</td>\n",
       "    </tr>\n",
       "    <tr>\n",
       "      <th>Life &amp; Health Insurance</th>\n",
       "      <td>5</td>\n",
       "    </tr>\n",
       "    <tr>\n",
       "      <th>Multi-Sector Holdings</th>\n",
       "      <td>1</td>\n",
       "    </tr>\n",
       "    <tr>\n",
       "      <th>Multi-line Insurance</th>\n",
       "      <td>3</td>\n",
       "    </tr>\n",
       "    <tr>\n",
       "      <th>Property &amp; Casualty Insurance</th>\n",
       "      <td>8</td>\n",
       "    </tr>\n",
       "    <tr>\n",
       "      <th>Regional Banks</th>\n",
       "      <td>11</td>\n",
       "    </tr>\n",
       "    <tr>\n",
       "      <th>Reinsurance</th>\n",
       "      <td>1</td>\n",
       "    </tr>\n",
       "    <tr>\n",
       "      <th>Thrifts &amp; Mortgage Finance</th>\n",
       "      <td>1</td>\n",
       "    </tr>\n",
       "    <tr>\n",
       "      <th>Total</th>\n",
       "      <td>65</td>\n",
       "    </tr>\n",
       "  </tbody>\n",
       "</table>\n",
       "</div>"
      ],
      "text/plain": [
       "                                  GICS Sub-Industry\n",
       "GICS Sub-Industry                                  \n",
       "Asset Management & Custody Banks                  8\n",
       "Consumer Finance                                  4\n",
       "Diversified Banks                                 6\n",
       "Financial Exchanges & Data                        8\n",
       "Insurance Brokers                                 5\n",
       "Investment Banking & Brokerage                    4\n",
       "Life & Health Insurance                           5\n",
       "Multi-Sector Holdings                             1\n",
       "Multi-line Insurance                              3\n",
       "Property & Casualty Insurance                     8\n",
       "Regional Banks                                   11\n",
       "Reinsurance                                       1\n",
       "Thrifts & Mortgage Finance                        1\n",
       "Total                                            65"
      ]
     },
     "execution_count": 2,
     "metadata": {},
     "output_type": "execute_result"
    }
   ],
   "source": [
    "# Se obtienen las compañías listadas en el índice S&P 500 que pertenecen al sector financiero\n",
    "sp500_companies = pd.DataFrame(pd.read_html(\"https://en.wikipedia.org/wiki/List_of_S%26P_500_companies\")[0])\n",
    "financialSector = sp500_companies[sp500_companies[\"GICS Sector\"] == \"Financials\"]\n",
    "# Símbolos de cotización\n",
    "tickers = list(financialSector[\"Symbol\"])\n",
    "\n",
    "# Compañías financieras clasificadas por sub-industria\n",
    "financialSector = pd.DataFrame(financialSector.groupby([\"GICS Sub-Industry\"])[\"GICS Sub-Industry\"].count())\n",
    "financialSector.loc[\"Total\"] = financialSector.values.sum()\n",
    "financialSector"
   ]
  },
  {
   "cell_type": "markdown",
   "metadata": {},
   "source": [
    "+ Existe un total de $65$ empresas del sector financiero que forman parte del índice S&P $500$."
   ]
  },
  {
   "cell_type": "code",
   "execution_count": 3,
   "metadata": {
    "ExecuteTime": {
     "end_time": "2021-11-02T15:12:48.986940Z",
     "start_time": "2021-11-02T15:12:48.962214Z"
    }
   },
   "outputs": [],
   "source": [
    "## ------------------------------------------------ Configuraciones iniciales  --------------------------------------------- ##\n",
    "\n",
    "# Función que calcula el margen de beneficio neto\n",
    "f_netProfitMargin = lambda df : list(df[\"netIncome\"] / df[\"revenue\"])\n",
    "\n",
    "# Función que calcula el ratio payout\n",
    "f_ratioPayout = lambda df : list(abs(df[\"dividendsPaid\"]) / df[\"netIncome\"])\n",
    "\n",
    "# Cálculo de Beta\n",
    "def f_beta(ticker : \"Símbolo de cotización\", start : \"Fecha de inicio\", end : \"Fecha final\"):\n",
    "    \"\"\"\n",
    "    f_beta devuelve la medida de volatilidad entre una acción relativa a al índice S&P 500, es decir, la Beta.\n",
    "    \n",
    "    ticker : Es el símbolo de cotización de una acción.\n",
    "    start : Fecha de inicio para la descarga de precios históricos.\n",
    "    end : Fecha de fin para la descarga de precios históricos.\n",
    "    \n",
    "    \"\"\"\n",
    "    # Descarga de precios históricos\n",
    "    prices = pd.DataFrame()\n",
    "    prices[ticker] = yf.download(ticker, start = start, end = end,  progress = False)[\"Adj Close\"]\n",
    "    prices[\"^GSPC\"] = yf.download(\"^GSPC\", start = start, end = end,  progress = False)[\"Adj Close\"]\n",
    "    \n",
    "    # Cálculo de Beta\n",
    "    CovMatrix = prices.dropna().pct_change().dropna().cov()\n",
    "    beta = CovMatrix.iloc[0, 1] / CovMatrix.iloc[1, 1]\n",
    "        \n",
    "    return beta\n",
    "\n",
    "def histogram(x : \"Variable aleatoria\", density = True, bins = 50, label = \"Etiqueta\", color = \"Color\"):\n",
    "    \"\"\"\n",
    "    histogram devuelve el histograma de la variable aleatoria x.\n",
    "    \n",
    "    x: Variable aleatoria.\n",
    "    density : Es la densidad de la distribución de probabilidad.\n",
    "    bins : Es el número de categorías para el graficado del histograma, por defecto se establece en 50.\n",
    "    label : Es el etiquetado para la visualización.\n",
    "    color : Color del histograma.\n",
    "    \n",
    "    \"\"\"\n",
    "    plt.figure(figsize = (10, 5))\n",
    "    plt.hist(x, bins = bins, density = density, label = label, color = color)\n",
    "    plt.legend();\n",
    "    \n",
    "    \n",
    "def filterByQuantiles(data : \"Datos a filtrar\", alpha = 0.05):\n",
    "    \"\"\"\n",
    "    filterByQuantiles filtra una serie de datos, eliminando los valores que se encuentran en las colas de la distribución.\n",
    "    \n",
    "    data : Son los datos a filtrar.\n",
    "    alpha: Es el nivel de significancia, por defecto se establece en 5%.\n",
    "    \n",
    "    \"\"\"\n",
    "    quantiles = np.quantile(data, [alpha, (1 - alpha)])\n",
    "    filteredData = data[(data >= quantiles[0]) & (data <= quantiles[1])]\n",
    "    \n",
    "    return filteredData\n",
    "    "
   ]
  },
  {
   "cell_type": "markdown",
   "metadata": {},
   "source": [
    "## Nodos"
   ]
  },
  {
   "cell_type": "code",
   "execution_count": 4,
   "metadata": {
    "ExecuteTime": {
     "end_time": "2021-11-02T15:12:51.411712Z",
     "start_time": "2021-11-02T15:12:50.830158Z"
    }
   },
   "outputs": [],
   "source": [
    "#Lectura de datos en excel por falta de api_key del colaborador (1 por proyecto $..)\n",
    "data_MargenNeto = pd.read_excel(\"Data/MargenNeto.xlsx\", sheet_name = \"Nodo1\")\n",
    "data_RatioPayout = pd.read_excel(\"Data/RatioPayout.xlsx\", sheet_name = \"Nodo2\")\n",
    "data_PrecioDividendos = pd.read_excel(\"Data/PrecioDividendos.xlsx\", sheet_name = \"Nodo3\")\n",
    "data_Betas = pd.read_excel(\"Data/Betas.xlsx\", sheet_name = \"Nodo4\")"
   ]
  },
  {
   "cell_type": "markdown",
   "metadata": {},
   "source": [
    "### 1. Margen de Beneficio Neto"
   ]
  },
  {
   "cell_type": "code",
   "execution_count": 5,
   "metadata": {
    "ExecuteTime": {
     "end_time": "2021-11-02T15:12:53.151197Z",
     "start_time": "2021-11-02T15:12:53.132215Z"
    }
   },
   "outputs": [],
   "source": [
    "# Descarga de datos para la simulación del primer nodo\n",
    "#netProfitMargins = np.concatenate(list(map(lambda ticker : \n",
    "                                           #f_netProfitMargin(cv.income_statement(ticker)[[\"revenue\", \"netIncome\"]]), tickers)))\n",
    "\n",
    "# Filtrado de datos\n",
    "#netProfitMargins = netProfitMargins[(netProfitMargins != float(\"inf\")) & (netProfitMargins != float(\"-inf\"))]\n",
    "#netProfitMargins = filterByQuantiles(netProfitMargins)\n",
    "\n",
    "# Quitar 1° índice (Sólo una vez)\n",
    "data_MargenNeto = data_MargenNeto.drop(data_MargenNeto.columns[[0]], axis=1)"
   ]
  },
  {
   "cell_type": "code",
   "execution_count": null,
   "metadata": {
    "ExecuteTime": {
     "start_time": "2021-11-02T15:12:57.077Z"
    }
   },
   "outputs": [],
   "source": [
    "# Visualización\n",
    "histogram(data_MargenNeto, bins = 50, label = \"Primer Nodo: Margen de Beneficio Neto\", color = \"navy\")"
   ]
  },
  {
   "cell_type": "markdown",
   "metadata": {},
   "source": [
    "### 2. Ratio Payout"
   ]
  },
  {
   "cell_type": "code",
   "execution_count": null,
   "metadata": {
    "ExecuteTime": {
     "end_time": "2021-10-31T17:52:28.771614Z",
     "start_time": "2021-10-31T17:52:28.763634Z"
    }
   },
   "outputs": [],
   "source": [
    "# Descarga de datos para la simulación del segundo nodo\n",
    "#payoutRatios = np.concatenate(list(map(lambda ticker : \n",
    "                                       #f_ratioPayout(cv.cash_flow_statement(ticker)[[\"netIncome\", \"dividendsPaid\"]]), tickers)))\n",
    "\n",
    "# Filtrado de datos\n",
    "#payoutRatios = payoutRatios[(payoutRatios != float(\"inf\")) & (payoutRatios != float(\"-inf\")) & (payoutRatios > 0)]\n",
    "#payoutRatios = filterByQuantiles(payoutRatios)\n",
    "\n",
    "# Quitar 1° índice (Sólo una vez)\n",
    "data_RatioPayout = data_RatioPayout.drop(data_RatioPayout.columns[[0]], axis=1)"
   ]
  },
  {
   "cell_type": "code",
   "execution_count": null,
   "metadata": {
    "ExecuteTime": {
     "end_time": "2021-10-31T17:52:30.645566Z",
     "start_time": "2021-10-31T17:52:30.385766Z"
    }
   },
   "outputs": [],
   "source": [
    "# Visualización\n",
    "histogram(data_RatioPayout, bins = 50, label = \"Segundo Nodo: Ratio Payout\", color = \"darkcyan\")"
   ]
  },
  {
   "cell_type": "markdown",
   "metadata": {},
   "source": [
    "### 3. Precio a Dividendos"
   ]
  },
  {
   "cell_type": "code",
   "execution_count": null,
   "metadata": {
    "ExecuteTime": {
     "end_time": "2021-10-31T17:52:32.445937Z",
     "start_time": "2021-10-31T17:52:32.434966Z"
    }
   },
   "outputs": [],
   "source": [
    "# Descarga de datos para la simulación del tercer nodo\n",
    "#priceToDividends = np.concatenate(list(map(lambda ticker : list(1 / cv.key_metrics(ticker)[\"dividendYield\"]), tickers)))\n",
    "\n",
    "# Filtrado de datos\n",
    "#priceToDividends = priceToDividends[(priceToDividends > 0)]\n",
    "#priceToDividends = filterByQuantiles(priceToDividends)\n",
    "\n",
    "# Quitar 1° índice (Sólo una vez)\n",
    "data_PrecioDividendos = data_PrecioDividendos.drop(data_PrecioDividendos.columns[[0]], axis=1)"
   ]
  },
  {
   "cell_type": "code",
   "execution_count": null,
   "metadata": {
    "ExecuteTime": {
     "end_time": "2021-10-31T17:52:33.499690Z",
     "start_time": "2021-10-31T17:52:33.163003Z"
    }
   },
   "outputs": [],
   "source": [
    "# Visualización\n",
    "histogram(data_PrecioDividendos, bins = 50, label = \"Tercer Nodo: Precio a Dividendos\", color = \"dodgerblue\")"
   ]
  },
  {
   "cell_type": "markdown",
   "metadata": {},
   "source": [
    "### 4. Beta"
   ]
  },
  {
   "cell_type": "code",
   "execution_count": null,
   "metadata": {
    "ExecuteTime": {
     "end_time": "2021-10-31T17:52:34.537671Z",
     "start_time": "2021-10-31T17:52:34.527698Z"
    },
    "scrolled": true
   },
   "outputs": [],
   "source": [
    "# Descarga de datos para la simulación del cuarto nodo\n",
    "#dates = [(str(i) + \"-01-01\", str(i) + \"-12-31\") for i in range(2010, 2021)]\n",
    "#betas = list(map(lambda date : list(map(lambda ticker : f_beta(ticker, date[0], date[1]), tickers)), dates))\n",
    "\n",
    "# Filtrado de datos\n",
    "#betasDF = pd.DataFrame(np.concatenate(betas)).dropna()\n",
    "#betasFinancialSector = list(map(lambda i : float(betasDF.iloc[i]), range(len(betasDF))))\n",
    "#betasFinancialSector = filterByQuantiles(np.array(betasFinancialSector))\n",
    "# Quitar 1° índice (Sólo una vez)\n",
    "data_Betas = data_Betas.drop(data_Betas.columns[[0]], axis=1)"
   ]
  },
  {
   "cell_type": "code",
   "execution_count": null,
   "metadata": {
    "ExecuteTime": {
     "end_time": "2021-10-31T17:52:35.414913Z",
     "start_time": "2021-10-31T17:52:35.108704Z"
    }
   },
   "outputs": [],
   "source": [
    "histogram(data_Betas, bins = 50, label = \"Cuarto Nodo: Beta\", color = \"steelblue\")"
   ]
  },
  {
   "cell_type": "code",
   "execution_count": null,
   "metadata": {
    "ExecuteTime": {
     "end_time": "2021-10-31T17:52:35.666212Z",
     "start_time": "2021-10-31T17:52:35.653246Z"
    }
   },
   "outputs": [],
   "source": [
    "# Almacenamiento de información en excel\n",
    "#pd.DataFrame(netProfitMargins).to_excel(\"Data/MargenNeto.xlsx\", sheet_name = \"Nodo1\")\n",
    "#pd.DataFrame(payoutRatios).to_excel(\"Data/RatioPayout.xlsx\", sheet_name = \"Nodo2\")\n",
    "#pd.DataFrame(priceToDividends).to_excel(\"Data/PrecioDividendos.xlsx\", sheet_name = \"Nodo3\")\n",
    "#pd.DataFrame(betasFinancialSector).to_excel(\"Data/Betas.xlsx\", sheet_name = \"Nodo4\")"
   ]
  },
  {
   "cell_type": "code",
   "execution_count": null,
   "metadata": {
    "ExecuteTime": {
     "end_time": "2021-10-31T17:52:37.507827Z",
     "start_time": "2021-10-31T17:52:36.623608Z"
    },
    "scrolled": true
   },
   "outputs": [],
   "source": [
    "#Box-Whisker Plots\n",
    "#Install w/ Anaconda Prompt: conda install -c plotly plotly_express & Customize w/ documentation \n",
    "import plotly.express as px\n",
    "df = px.data.tips()\n",
    "bw_betas = px.box(data_Betas, points=\"all\", width=750, height=300, template= \"plotly_dark\",\n",
    "            title=\"Box-Whisker Plot of Betas\", orientation=\"h\")\n",
    "bw_PrecioDividendos = px.box(data_PrecioDividendos, points=\"all\", width=830, height=350,\n",
    "            template= \"plotly\",title=\"Box-Whisker of Plot Price Dividends\", orientation=\"h\")\n",
    "bw_RatioPayout = px.box(data_RatioPayout, points=\"all\", width=750, height=300,\n",
    "            template= \"plotly_dark\", title=\"Box-Whisker Plot of Ratio Payout\", orientation=\"h\")\n",
    "bw_NetProfit = px.box(data_MargenNeto, points=\"all\", width=830, height=350,\n",
    "            template= \"plotly\",title=\"Box-Whisker of Net Profit Margin\", orientation=\"h\")\n",
    "\n",
    "bw_betas.show(), bw_PrecioDividendos.show(), bw_RatioPayout.show(), bw_NetProfit"
   ]
  },
  {
   "cell_type": "markdown",
   "metadata": {},
   "source": [
    "#### Posibles soluciones a la estimación de bandwidth:"
   ]
  },
  {
   "cell_type": "code",
   "execution_count": null,
   "metadata": {
    "ExecuteTime": {
     "end_time": "2021-10-31T17:59:00.727884Z",
     "start_time": "2021-10-31T17:58:55.001160Z"
    }
   },
   "outputs": [],
   "source": [
    "#GridSearch hace una búsqueda exhaustiva para hacer mi CV y dependiendo de cuantas CV defina, los conjuntos\n",
    "#de prueba que se realizan.\n",
    "from sklearn.model_selection import GridSearchCV\n",
    "grid = GridSearchCV(KernelDensity(),\n",
    "                    {'bandwidth': np.linspace(0.1, 1, 50)},\n",
    "                    cv=20) # 20-fold cross-validation\n",
    "grid.fit(np.log(data_Betas))\n",
    "print(grid.best_params_)"
   ]
  },
  {
   "cell_type": "code",
   "execution_count": null,
   "metadata": {
    "ExecuteTime": {
     "end_time": "2021-10-31T17:59:22.386830Z",
     "start_time": "2021-10-31T17:59:17.935699Z"
    }
   },
   "outputs": [],
   "source": [
    "grid = GridSearchCV(KernelDensity(kernel = 'gaussian'),{'bandwidth': np.linspace(0.1, 0.5, 20)}, cv = 5)\n",
    "grid.fit(np.log(data_MargenNeto))\n",
    "print(grid.best_params_)"
   ]
  },
  {
   "cell_type": "code",
   "execution_count": null,
   "metadata": {
    "ExecuteTime": {
     "end_time": "2021-10-31T17:59:47.063786Z",
     "start_time": "2021-10-31T17:59:43.793560Z"
    }
   },
   "outputs": [],
   "source": [
    "grid = GridSearchCV(KernelDensity(kernel = 'gaussian'),{'bandwidth': np.linspace(0.1, 0.5, 20)}, cv = 5)\n",
    "grid.fit(np.log(data_PrecioDividendos))\n",
    "print(grid.best_params_)"
   ]
  },
  {
   "cell_type": "code",
   "execution_count": null,
   "metadata": {
    "ExecuteTime": {
     "end_time": "2021-10-31T18:00:08.393179Z",
     "start_time": "2021-10-31T18:00:05.426109Z"
    }
   },
   "outputs": [],
   "source": [
    "grid = GridSearchCV(KernelDensity(kernel = 'gaussian'),{'bandwidth': np.linspace(0.1, 0.5, 20)}, cv = 5)\n",
    "grid.fit(np.log(data_RatioPayout))\n",
    "print(grid.best_params_)"
   ]
  },
  {
   "cell_type": "code",
   "execution_count": null,
   "metadata": {
    "ExecuteTime": {
     "start_time": "2021-11-02T15:05:55.590Z"
    }
   },
   "outputs": [
    {
     "data": {
      "text/plain": [
       "Text(0, 0.5, 'Densidad')"
      ]
     },
     "execution_count": 6,
     "metadata": {},
     "output_type": "execute_result"
    }
   ],
   "source": [
    "#https://www.sharpsightlabs.com/blog/seaborn-histogram/\n",
    "#For visualizing univariate data distributions – seaborn.kdeplot() and seaborn.distplot().\n",
    "#Estética seaborn\n",
    "sns.set(rc={'figure.figsize':(12,8)})\n",
    "sns.set_style(\"whitegrid\", {\"grid.color\": \"black\", \"grid.linestyle\": \"--\"})\n",
    "sns.set_context(rc={\"grid.linewidth\": 1})\n",
    "sns.set_palette(\"Set1\", 1)\n",
    "\n",
    "#Gráfico\n",
    "sns.histplot(data=data_PrecioDividendos, stat='density', kde=True, kde_kws={'bw_method': 1},\n",
    "             bins=50, log_scale=False, shrink=5)\n",
    "\n",
    "#Estética matplot\n",
    "plt.title('Precio a Dividendos del sector financiero en el S&P 500', fontsize=20)\n",
    "plt.xlabel('Precio a Dividendos', fontsize=16)\n",
    "plt.ylabel('Densidad', fontsize=16)"
   ]
  },
  {
   "cell_type": "code",
   "execution_count": null,
   "metadata": {
    "ExecuteTime": {
     "end_time": "2021-10-31T17:53:13.804621Z",
     "start_time": "2021-10-31T17:53:13.637069Z"
    }
   },
   "outputs": [],
   "source": [
    "from sklearn.neighbors import KernelDensity\n",
    "kde = KernelDensity(kernel='gaussian', bandwidth=2).fit(data_PrecioDividendos)\n",
    "kde.score_samples(data_PrecioDividendos)"
   ]
  },
  {
   "cell_type": "code",
   "execution_count": null,
   "metadata": {
    "ExecuteTime": {
     "end_time": "2021-10-31T08:25:16.535157Z",
     "start_time": "2021-10-31T08:25:16.116796Z"
    }
   },
   "outputs": [],
   "source": [
    "#Estética seaborn\n",
    "sns.set(rc={'figure.figsize':(12,8)})\n",
    "sns.set_style(\"darkgrid\", {\"grid.color\": \"black\", \"grid.linestyle\": \"--\"})\n",
    "sns.set_context(rc={\"grid.linewidth\": 1})\n",
    "colors = [\"#6959CD\", \"#4374B3\"]\n",
    "sns.set_palette(sns.color_palette(colors))\n",
    "\n",
    "#Gráfico\n",
    "sns.histplot(data=data_Betas, stat='density', kde=True, kde_kws={'bw_method': 0.1},\n",
    "             bins=50, log_scale=False, shrink=1)\n",
    "\n",
    "#Estética matplot\n",
    "plt.title('Betas del sector financiero en el S&P 500', fontsize=20)\n",
    "plt.xlabel('Betas', fontsize=16)\n",
    "plt.ylabel('Densidad', fontsize=16)"
   ]
  },
  {
   "cell_type": "code",
   "execution_count": null,
   "metadata": {
    "ExecuteTime": {
     "end_time": "2021-10-31T08:25:19.533424Z",
     "start_time": "2021-10-31T08:25:19.478570Z"
    },
    "scrolled": false
   },
   "outputs": [],
   "source": [
    "from sklearn.neighbors import KernelDensity\n",
    "kde = KernelDensity(kernel='gaussian', bandwidth=2).fit(data_Betas)\n",
    "kde.score_samples(data_Betas)"
   ]
  },
  {
   "cell_type": "code",
   "execution_count": null,
   "metadata": {
    "ExecuteTime": {
     "end_time": "2021-10-31T08:25:23.658372Z",
     "start_time": "2021-10-31T08:25:23.176661Z"
    }
   },
   "outputs": [],
   "source": [
    "#Estética seaborn\n",
    "sns.set(rc={'figure.figsize':(12,8)})\n",
    "sns.set_style(\"darkgrid\", {\"grid.color\": \"black\", \"grid.linestyle\": \"--\"})\n",
    "sns.set_context(rc={\"grid.linewidth\": 1})\n",
    "colors = [\"#8B4726\", \"#4374B3\"]\n",
    "sns.set_palette(sns.color_palette(colors))\n",
    "\n",
    "#Gráfico\n",
    "sns.histplot(data=data_MargenNeto, stat='density', kde=True, kde_kws={'bw_method': 0.1},\n",
    "             bins=50, log_scale=False, shrink=1)\n",
    "\n",
    "#Estética matplot\n",
    "plt.title('Margen Neto del sector financiero en el S&P 500', fontsize=20)\n",
    "plt.xlabel('Margen Neto', fontsize=16)\n",
    "plt.ylabel('Densidad', fontsize=16)"
   ]
  },
  {
   "cell_type": "code",
   "execution_count": null,
   "metadata": {
    "ExecuteTime": {
     "end_time": "2021-10-31T08:25:26.105921Z",
     "start_time": "2021-10-31T08:25:25.853899Z"
    }
   },
   "outputs": [],
   "source": [
    "from sklearn.neighbors import KernelDensity\n",
    "kde = KernelDensity(kernel='gaussian', bandwidth=2).fit(data_MargenNeto)\n",
    "kde.score_samples(data_MargenNeto)"
   ]
  },
  {
   "cell_type": "code",
   "execution_count": null,
   "metadata": {
    "ExecuteTime": {
     "end_time": "2021-10-31T08:25:27.205497Z",
     "start_time": "2021-10-31T08:25:26.814539Z"
    },
    "scrolled": true
   },
   "outputs": [],
   "source": [
    "#Estética seaborn\n",
    "sns.set(rc={'figure.figsize':(12,8)})\n",
    "sns.set_style(\"darkgrid\", {\"grid.color\": \"black\", \"grid.linestyle\": \"--\"})\n",
    "sns.set_context(rc={\"grid.linewidth\": 1})\n",
    "colors = [\"#3D9140\", \"#4374B3\"]\n",
    "sns.set_palette(sns.color_palette(colors))\n",
    "\n",
    "\n",
    "#Gráfico\n",
    "sns.histplot(data=data_RatioPayout, stat='density', kde=True, kde_kws={'bw_method': 0.1},\n",
    "             bins=50, log_scale=False, shrink=1)\n",
    "\n",
    "#Estética matplot\n",
    "plt.title('Ratio Payout del sector financiero en el S&P 500', fontsize=20)\n",
    "plt.xlabel('Ratio Payout', fontsize=16)\n",
    "plt.ylabel('Densidad', fontsize=16)"
   ]
  },
  {
   "cell_type": "code",
   "execution_count": null,
   "metadata": {
    "ExecuteTime": {
     "end_time": "2021-10-31T08:25:29.811513Z",
     "start_time": "2021-10-31T08:25:29.628002Z"
    }
   },
   "outputs": [],
   "source": [
    "from sklearn.neighbors import KernelDensity\n",
    "kde = KernelDensity(kernel='gaussian', bandwidth=2).fit(data_RatioPayout)\n",
    "kde.score_samples(data_RatioPayout)"
   ]
  },
  {
   "cell_type": "code",
   "execution_count": null,
   "metadata": {},
   "outputs": [],
   "source": [
    "def kde_scipy(x, x_grid, bandwidth=0.2, **kwargs):\n",
    "    \"\"\"Kernel Density Estimation with Scipy\"\"\"\n",
    "    # Note that scipy weights its bandwidth by the covariance of the\n",
    "    # input data.  To make the results comparable to the other methods,\n",
    "    # we divide the bandwidth by the sample standard deviation here.\n",
    "    kde = gaussian_kde(x, bw_method=bandwidth / x.std(ddof=1), **kwargs)\n",
    "    return kde.evaluate(x_grid)\n",
    "\n",
    "\n",
    "def kde_statsmodels_u(x, x_grid, bandwidth=0.2, **kwargs):\n",
    "    \"\"\"Univariate Kernel Density Estimation with Statsmodels\"\"\"\n",
    "    kde = KDEUnivariate(x)\n",
    "    kde.fit(bw=bandwidth, **kwargs) #entrena el anterior objeto kde\n",
    "    return kde.evaluate(x_grid) #para evaluarlo posteriormente.\n",
    "    \n",
    "    \n",
    "def kde_statsmodels_m(x, x_grid, bandwidth=0.2, **kwargs):\n",
    "    \"\"\"Multivariate Kernel Density Estimation with Statsmodels\"\"\"\n",
    "    kde = KDEMultivariate(x, \n",
    "                          bw='cv_ml',  #bandwidth * np.ones_like(x),\n",
    "                          var_type='c', **kwargs)\n",
    "    return kde.pdf(x_grid)\n",
    "\n",
    "\n",
    "def kde_sklearn(x, x_grid, bandwidth=0.2, **kwargs):\n",
    "    \"\"\"Kernel Density Estimation with Scikit-learn\"\"\"\n",
    "    kde_skl = KernelDensity(bandwidth=bandwidth, **kwargs)\n",
    "    kde_skl.fit(x[:, np.newaxis]) #Introducimos un vector de dos dimensiones\n",
    "    # score_samples() returns the log-likelihood of the samples\n",
    "    log_pdf = kde_skl.score_samples(x_grid[:, np.newaxis])\n",
    "    return np.exp(log_pdf) #Regresa el vector de la función estimada.\n",
    "\n",
    "\n",
    "kde_funcs = [kde_statsmodels_u, kde_statsmodels_m, kde_scipy, kde_sklearn]\n",
    "kde_funcnames = ['Statsmodels-U', 'Statsmodels-M', 'Scipy', 'Scikit-learn']\n",
    "\n",
    "print( \"Package Versions:\")\n",
    "import sklearn; print( \"  scikit-learn:\", sklearn.__version__)\n",
    "import scipy; print (\"  scipy:\", scipy.__version__)\n",
    "import statsmodels; print( \"  statsmodels:\", statsmodels.__version__)"
   ]
  }
 ],
 "metadata": {
  "kernelspec": {
   "display_name": "Python 3",
   "language": "python",
   "name": "python3"
  },
  "language_info": {
   "codemirror_mode": {
    "name": "ipython",
    "version": 3
   },
   "file_extension": ".py",
   "mimetype": "text/x-python",
   "name": "python",
   "nbconvert_exporter": "python",
   "pygments_lexer": "ipython3",
   "version": "3.8.8"
  },
  "latex_envs": {
   "LaTeX_envs_menu_present": true,
   "autoclose": false,
   "autocomplete": true,
   "bibliofile": "biblio.bib",
   "cite_by": "apalike",
   "current_citInitial": 1,
   "eqLabelWithNumbers": true,
   "eqNumInitial": 1,
   "hotkeys": {
    "equation": "Ctrl-E",
    "itemize": "Ctrl-I"
   },
   "labels_anchors": false,
   "latex_user_defs": false,
   "report_style_numbering": false,
   "user_envs_cfg": false
  }
 },
 "nbformat": 4,
 "nbformat_minor": 2
}
